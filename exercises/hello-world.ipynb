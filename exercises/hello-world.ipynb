{
 "cells": [
  {
   "cell_type": "code",
   "execution_count": 1,
   "id": "5ca1dfa5-ffdb-437c-a35e-81f89535fc89",
   "metadata": {
    "tags": []
   },
   "outputs": [
    {
     "name": "stdout",
     "output_type": "stream",
     "text": [
      "Hello, World!\n"
     ]
    }
   ],
   "source": [
    "print(\"Hello, World!\")"
   ]
  },
  {
   "cell_type": "code",
   "execution_count": 2,
   "id": "63944666-5fe7-4dc7-a5a6-ccb33813cb30",
   "metadata": {
    "tags": []
   },
   "outputs": [],
   "source": [
    "e_2_1 = \"butter\""
   ]
  },
  {
   "cell_type": "code",
   "execution_count": 3,
   "id": "91062122-5ccf-4919-9b83-a79a317e02ab",
   "metadata": {
    "tags": []
   },
   "outputs": [
    {
     "data": {
      "text/plain": [
       "6"
      ]
     },
     "execution_count": 3,
     "metadata": {},
     "output_type": "execute_result"
    }
   ],
   "source": [
    "len(e_2_1)"
   ]
  },
  {
   "cell_type": "code",
   "execution_count": 4,
   "id": "09539a02-f36e-4ca3-8070-91d20c459969",
   "metadata": {
    "tags": []
   },
   "outputs": [
    {
     "name": "stdout",
     "output_type": "stream",
     "text": [
      "but\n",
      "ter\n"
     ]
    }
   ],
   "source": [
    "print(e_2_1[:3])\n",
    "print(e_2_1[-3:])"
   ]
  },
  {
   "cell_type": "code",
   "execution_count": 5,
   "id": "87c6c2a0-fc17-4594-ba54-6bfd6ce1eb65",
   "metadata": {
    "tags": []
   },
   "outputs": [],
   "source": [
    "e_2_2 = ['butter','nut','squash']"
   ]
  },
  {
   "cell_type": "code",
   "execution_count": 6,
   "id": "74b05320-0b7e-4ffb-ae0a-8c72eb30211c",
   "metadata": {
    "tags": []
   },
   "outputs": [
    {
     "name": "stdout",
     "output_type": "stream",
     "text": [
      "nut\n"
     ]
    }
   ],
   "source": [
    "print(e_2_2[1])"
   ]
  },
  {
   "cell_type": "code",
   "execution_count": 7,
   "id": "3abd7d7e-3e7d-4936-beba-ebe21b034587",
   "metadata": {
    "tags": []
   },
   "outputs": [],
   "source": [
    "e_2_3 = tuple(e_2_2)"
   ]
  },
  {
   "cell_type": "code",
   "execution_count": 8,
   "id": "6677f456-a2e6-448b-b28a-ab0aa381139f",
   "metadata": {
    "tags": []
   },
   "outputs": [
    {
     "ename": "TypeError",
     "evalue": "can only concatenate tuple (not \"str\") to tuple",
     "output_type": "error",
     "traceback": [
      "\u001b[0;31m---------------------------------------------------------------------------\u001b[0m",
      "\u001b[0;31mTypeError\u001b[0m                                 Traceback (most recent call last)",
      "Cell \u001b[0;32mIn[8], line 1\u001b[0m\n\u001b[0;32m----> 1\u001b[0m \u001b[43me_2_3\u001b[49m\u001b[43m \u001b[49m\u001b[38;5;241;43m+\u001b[39;49m\u001b[43m \u001b[49m\u001b[38;5;124;43m'\u001b[39;49m\u001b[38;5;124;43mis\u001b[39;49m\u001b[38;5;124;43m'\u001b[39;49m\n",
      "\u001b[0;31mTypeError\u001b[0m: can only concatenate tuple (not \"str\") to tuple"
     ]
    }
   ],
   "source": [
    "e_2_3 + 'is'"
   ]
  },
  {
   "cell_type": "code",
   "execution_count": 9,
   "id": "5d9fcbff-8eca-4edd-b1f8-e60e30ad1a8a",
   "metadata": {
    "tags": []
   },
   "outputs": [
    {
     "data": {
      "text/plain": [
       "('butter', 'nut', 'squash', 'is', 'a', 'squash')"
      ]
     },
     "execution_count": 9,
     "metadata": {},
     "output_type": "execute_result"
    }
   ],
   "source": [
    "e_2_3 + ('is','a','squash')"
   ]
  },
  {
   "cell_type": "code",
   "execution_count": 10,
   "id": "a680303d-3637-4ec9-97ba-d74482f06943",
   "metadata": {
    "tags": []
   },
   "outputs": [
    {
     "data": {
      "text/plain": [
       "4"
      ]
     },
     "execution_count": 10,
     "metadata": {},
     "output_type": "execute_result"
    }
   ],
   "source": [
    "e_2_4 = \"4\"\n",
    "int(e_2_4)"
   ]
  },
  {
   "cell_type": "code",
   "execution_count": 11,
   "id": "99016acb-bcee-4ff8-90b8-05ea1a7c369d",
   "metadata": {
    "tags": []
   },
   "outputs": [],
   "source": [
    "e_2_4_2 = set(['1','2','3'])"
   ]
  },
  {
   "cell_type": "code",
   "execution_count": 12,
   "id": "b1586945-8bed-4d04-a147-7f8942b41011",
   "metadata": {
    "tags": []
   },
   "outputs": [
    {
     "data": {
      "text/plain": [
       "False"
      ]
     },
     "execution_count": 12,
     "metadata": {},
     "output_type": "execute_result"
    }
   ],
   "source": [
    "e_2_4 in e_2_4_2"
   ]
  }
 ],
 "metadata": {
  "kernelspec": {
   "display_name": "Python 3 (ipykernel)",
   "language": "python",
   "name": "python3"
  },
  "language_info": {
   "codemirror_mode": {
    "name": "ipython",
    "version": 3
   },
   "file_extension": ".py",
   "mimetype": "text/x-python",
   "name": "python",
   "nbconvert_exporter": "python",
   "pygments_lexer": "ipython3",
   "version": "3.11.4"
  }
 },
 "nbformat": 4,
 "nbformat_minor": 5
}
