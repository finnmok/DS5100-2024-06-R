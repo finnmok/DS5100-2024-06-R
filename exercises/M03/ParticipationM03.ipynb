{
 "cells": [
  {
   "cell_type": "markdown",
   "id": "73b236f5-08a6-4ce5-9aa4-953a142cc50f",
   "metadata": {},
   "source": [
    "## Exercises for M03"
   ]
  },
  {
   "cell_type": "markdown",
   "id": "cc9476dd-aa55-4907-922e-58bd9e078a16",
   "metadata": {
    "tags": []
   },
   "source": [
    "### 3.1"
   ]
  },
  {
   "cell_type": "markdown",
   "id": "dcb78503-ed86-43fa-8cf1-4cbc8691f23b",
   "metadata": {
    "tags": []
   },
   "source": [
    "val = 5 is going to have an issue. We could do an else statement to cover all other conditions."
   ]
  },
  {
   "cell_type": "markdown",
   "id": "ac3a7b1b-6fad-4e36-a6cd-e23c8da67346",
   "metadata": {},
   "source": [
    "We should add another bucket. Add condition else: print('bucket 4')"
   ]
  },
  {
   "cell_type": "markdown",
   "id": "46d3afa9-082e-4bbd-a34a-985c126354ee",
   "metadata": {
    "tags": []
   },
   "source": [
    "### 3.2"
   ]
  },
  {
   "cell_type": "code",
   "execution_count": 4,
   "id": "22e53bc3-016c-4044-a890-7491ee3e514f",
   "metadata": {
    "tags": []
   },
   "outputs": [
    {
     "name": "stdout",
     "output_type": "stream",
     "text": [
      "-2\n",
      "max_val\n",
      "0\n",
      "5\n",
      "6\n"
     ]
    }
   ],
   "source": [
    "xx = [-2,8,0,5,6]\n",
    "max_val = max(xx)\n",
    "\n",
    "for v in xx:\n",
    "    if v < max_val:\n",
    "        print(v)\n",
    "    else:\n",
    "        print(\"max_val\")"
   ]
  },
  {
   "cell_type": "markdown",
   "id": "529cb6e9-90c6-4ece-a6ee-621da20057ed",
   "metadata": {
    "tags": []
   },
   "source": [
    "### 3.3"
   ]
  },
  {
   "cell_type": "code",
   "execution_count": 5,
   "id": "7d9daac3-d19b-4562-a4f2-71feb12eb5d1",
   "metadata": {
    "tags": []
   },
   "outputs": [
    {
     "name": "stdout",
     "output_type": "stream",
     "text": [
      "0\n",
      "10\n",
      "20\n",
      "30\n",
      "40\n",
      "50\n",
      "60\n",
      "70\n",
      "80\n",
      "90\n"
     ]
    }
   ],
   "source": [
    "it = 0 \n",
    "max_iter = 100\n",
    "\n",
    "while(it < max_iter):\n",
    "    if (it == 0) | (it % 10 == 0):\n",
    "        print(it)\n",
    "    it += 1\n",
    "    if it >= max_iter:\n",
    "        break"
   ]
  },
  {
   "cell_type": "markdown",
   "id": "9f3b2993-a270-4048-bfe4-f6e5e2946649",
   "metadata": {
    "tags": []
   },
   "source": [
    "### 3.4"
   ]
  },
  {
   "cell_type": "code",
   "execution_count": 13,
   "id": "7991a98c-a0b6-485c-ae49-09e07f9c1921",
   "metadata": {},
   "outputs": [
    {
     "name": "stdout",
     "output_type": "stream",
     "text": [
      "beyonce\n",
      "rihanna\n",
      "queen\n",
      "taylor swift\n"
     ]
    }
   ],
   "source": [
    "names = ['Beyonce','Rihanna','Queen','Taylor Swift']\n",
    "\n",
    "_ = [print(n.lower()) for n in names]"
   ]
  },
  {
   "cell_type": "markdown",
   "id": "61948276-802e-459e-bce8-5a4d7b004f59",
   "metadata": {
    "tags": []
   },
   "source": [
    "### 3.5"
   ]
  },
  {
   "cell_type": "code",
   "execution_count": 18,
   "id": "0428f960-29b2-4d5a-9eb3-0e86e5eb7888",
   "metadata": {
    "tags": []
   },
   "outputs": [
    {
     "name": "stdout",
     "output_type": "stream",
     "text": [
      "Beyonce\n"
     ]
    }
   ],
   "source": [
    "inames = iter(names)\n",
    "print(next(inames))"
   ]
  },
  {
   "cell_type": "code",
   "execution_count": 19,
   "id": "91e4fa08-b01c-4d74-8fed-203175b38074",
   "metadata": {
    "tags": []
   },
   "outputs": [
    {
     "name": "stdout",
     "output_type": "stream",
     "text": [
      "Rihanna\n"
     ]
    }
   ],
   "source": [
    "print(next(inames))"
   ]
  },
  {
   "cell_type": "code",
   "execution_count": 20,
   "id": "efe100de-c2b8-45c8-a383-1a334d7fe39f",
   "metadata": {
    "tags": []
   },
   "outputs": [
    {
     "name": "stdout",
     "output_type": "stream",
     "text": [
      "Queen\n"
     ]
    }
   ],
   "source": [
    "print(next(inames))"
   ]
  },
  {
   "cell_type": "code",
   "execution_count": 21,
   "id": "1307c473-2a90-4343-b734-82ca21214f95",
   "metadata": {
    "tags": []
   },
   "outputs": [
    {
     "name": "stdout",
     "output_type": "stream",
     "text": [
      "Taylor Swift\n"
     ]
    }
   ],
   "source": [
    "print(next(inames))"
   ]
  },
  {
   "cell_type": "markdown",
   "id": "1b51f5db-30c8-42ea-b32c-660dd6149e57",
   "metadata": {
    "tags": []
   },
   "source": [
    "### 3.6"
   ]
  },
  {
   "cell_type": "code",
   "execution_count": 27,
   "id": "cfa53b94-4bee-499d-b63a-b705a7abb7a2",
   "metadata": {
    "tags": []
   },
   "outputs": [
    {
     "name": "stdout",
     "output_type": "stream",
     "text": [
      "The city is New York and the zipcode is 10025.\n",
      "The city is Philadelphia and the zipcode is 19019.\n"
     ]
    }
   ],
   "source": [
    "cities = {'New York':10025,'Philadelphia':19019}\n",
    "\n",
    "for c,z in cities.items():\n",
    "    print(f\"The city is {c} and the zipcode is {z}.\")"
   ]
  },
  {
   "cell_type": "markdown",
   "id": "bdca8bad-0f89-46cb-a077-c2e95748a443",
   "metadata": {
    "tags": []
   },
   "source": [
    "### 3.7"
   ]
  },
  {
   "cell_type": "code",
   "execution_count": 26,
   "id": "2aa45669-28f6-4b08-baae-adcb2ffe2c40",
   "metadata": {
    "tags": []
   },
   "outputs": [
    {
     "name": "stdout",
     "output_type": "stream",
     "text": [
      "The city is New York and the zipcode is 10025.\n",
      "The city is Philadelphia and the zipcode is 19019.\n"
     ]
    }
   ],
   "source": [
    "for c in cities.keys():\n",
    "    print(f\"The city is {c} and the zipcode is {cities[c]}.\")"
   ]
  },
  {
   "cell_type": "markdown",
   "id": "79abb4bb-a6ba-4001-b179-996cdabc171d",
   "metadata": {
    "tags": []
   },
   "source": [
    "### 3.8"
   ]
  },
  {
   "cell_type": "code",
   "execution_count": 30,
   "id": "bbbf76a9-453a-47f3-bdb8-2e626c3b08ab",
   "metadata": {
    "tags": []
   },
   "outputs": [
    {
     "data": {
      "text/plain": [
       "[1, 8, 27, 64, 125, 216, 343, 512, 729]"
      ]
     },
     "execution_count": 30,
     "metadata": {},
     "output_type": "execute_result"
    }
   ],
   "source": [
    "[x**3 for x in range(1,10)]"
   ]
  },
  {
   "cell_type": "markdown",
   "id": "9b818a6e-2cba-4634-a0c3-f44a5d678372",
   "metadata": {},
   "source": [
    "### 3.9"
   ]
  },
  {
   "cell_type": "code",
   "execution_count": 33,
   "id": "f81f70fd-4c07-46c0-a676-c49811d3d8e1",
   "metadata": {
    "tags": []
   },
   "outputs": [
    {
     "data": {
      "text/plain": [
       "['1', '2', '4', '7']"
      ]
     },
     "execution_count": 33,
     "metadata": {},
     "output_type": "execute_result"
    }
   ],
   "source": [
    "mix = [\"1\", \"2\", \"4\", \"five\", \"six\", \"7\"]\n",
    "\n",
    "[i for i in mix if i.isdigit()]"
   ]
  },
  {
   "cell_type": "markdown",
   "id": "4ae3dbe1-fb0d-4d6e-b1cf-f49026836d6b",
   "metadata": {},
   "source": [
    "### 3.10"
   ]
  },
  {
   "cell_type": "code",
   "execution_count": 34,
   "id": "9f55d7ec-78cc-4d1c-826b-3926be3c1528",
   "metadata": {
    "tags": []
   },
   "outputs": [],
   "source": [
    "grid = {\n",
    "'max_depth':[5,10],\n",
    "'ntrees':[100,200,300],\n",
    "'regularization':[11,12],\n",
    "'max_iter':[10,20]\n",
    "}"
   ]
  },
  {
   "cell_type": "code",
   "execution_count": 35,
   "id": "879697d8-1802-4558-8e05-eaadd60e1019",
   "metadata": {
    "tags": []
   },
   "outputs": [
    {
     "data": {
      "text/plain": [
       "{'max_depth': [5, 10], 'max_iter': [10, 20]}"
      ]
     },
     "execution_count": 35,
     "metadata": {},
     "output_type": "execute_result"
    }
   ],
   "source": [
    "{k:grid[k] for k in grid.keys() if 'max' in k}"
   ]
  }
 ],
 "metadata": {
  "kernelspec": {
   "display_name": "Python 3 (ipykernel)",
   "language": "python",
   "name": "python3"
  },
  "language_info": {
   "codemirror_mode": {
    "name": "ipython",
    "version": 3
   },
   "file_extension": ".py",
   "mimetype": "text/x-python",
   "name": "python",
   "nbconvert_exporter": "python",
   "pygments_lexer": "ipython3",
   "version": "3.11.4"
  }
 },
 "nbformat": 4,
 "nbformat_minor": 5
}
