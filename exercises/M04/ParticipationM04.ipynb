{
 "cells": [
  {
   "cell_type": "markdown",
   "metadata": {},
   "source": [
    "# Participation"
   ]
  },
  {
   "cell_type": "markdown",
   "metadata": {},
   "source": [
    "### Exercise 4.1"
   ]
  },
  {
   "cell_type": "code",
   "execution_count": 4,
   "metadata": {},
   "outputs": [],
   "source": [
    "def true_length(text,length):\n",
    "    '''  \n",
    "    PURPOSE: Check if the text length matches the given length.\n",
    "    \n",
    "    INPUTS\n",
    "    text    str\n",
    "    length  int\n",
    "    \n",
    "    OUTPUT\n",
    "    bool    True if length of the text is equal to the specified length, else False\n",
    "    '''\n",
    "    \n",
    "    return len(text) == length\n",
    "\n"
   ]
  },
  {
   "cell_type": "code",
   "execution_count": 3,
   "metadata": {},
   "outputs": [
    {
     "data": {
      "text/plain": [
       "True"
      ]
     },
     "execution_count": 3,
     "metadata": {},
     "output_type": "execute_result"
    }
   ],
   "source": [
    "true_length(\"is this text the right length?\",30)"
   ]
  },
  {
   "cell_type": "markdown",
   "metadata": {},
   "source": [
    "### Exercise 4.2"
   ]
  },
  {
   "cell_type": "code",
   "execution_count": 19,
   "metadata": {},
   "outputs": [],
   "source": [
    "def square_vals(*args):\n",
    "    '''  \n",
    "    PURPOSE: Print the square of each value from args.\n",
    "\n",
    "    INPUTS\n",
    "    *args    variable number of ints or floats\n",
    "    \n",
    "    OUTPUT\n",
    "    None    prints the square of each input value\n",
    "    '''\n",
    "    for n in args:\n",
    "        print(n**2)\n",
    "\n",
    "    return None\n",
    "    "
   ]
  },
  {
   "cell_type": "code",
   "execution_count": 18,
   "metadata": {},
   "outputs": [
    {
     "name": "stdout",
     "output_type": "stream",
     "text": [
      "4\n",
      "25\n"
     ]
    }
   ],
   "source": [
    "ns = [2,5]\n",
    "square_vals(*ns)"
   ]
  },
  {
   "cell_type": "markdown",
   "metadata": {},
   "source": [
    "### Exercise 4.3"
   ]
  },
  {
   "cell_type": "code",
   "execution_count": 47,
   "metadata": {},
   "outputs": [],
   "source": [
    "def word_shortener(text):\n",
    "\n",
    "    '''\n",
    "    PURPOSE: Shorten a text based on its length and print the result.\n",
    "    \n",
    "    INPUTS\n",
    "    text    str    a string to be shortened\n",
    "    \n",
    "    OUTPUT\n",
    "    None    prints shortened version of the input string\n",
    "    '''\n",
    "\n",
    "    if isinstance(text,str):\n",
    "        if len(text) > 2:\n",
    "            text = text[0].upper() + str(len(text[1:-1])) + text[-1].upper()\n",
    "            return(text)\n",
    "        elif len(text) == 2:\n",
    "            return(text[0].upper() + '0' + text[-1].upper())\n",
    "        else:\n",
    "            return(text.upper())\n",
    "    else:\n",
    "        raise ValueError(\"This is not a string\")"
   ]
  },
  {
   "cell_type": "code",
   "execution_count": 55,
   "metadata": {},
   "outputs": [
    {
     "data": {
      "text/plain": [
       "'T12N'"
      ]
     },
     "execution_count": 55,
     "metadata": {},
     "output_type": "execute_result"
    }
   ],
   "source": [
    "word_shortener('textualization')"
   ]
  },
  {
   "cell_type": "markdown",
   "metadata": {},
   "source": [
    "### Exercise 4.4"
   ]
  },
  {
   "cell_type": "code",
   "execution_count": 74,
   "metadata": {},
   "outputs": [],
   "source": [
    "def check_difference(n):\n",
    "    '''\n",
    "    PURPOSE: Check if a number minus 5 is non-negative and return 1 if true, else return 0.\n",
    "    \n",
    "    INPUTS\n",
    "    n    int,float    number to be checked\n",
    "    \n",
    "    OUTPUT\n",
    "    int    1 if (n - 5) >= 0, otherwise 0\n",
    "    '''\n",
    "    if isinstance(n, int) or isinstance(n, float):\n",
    "        return 1 if (n - 5) >= 0 else 0\n",
    "    else:\n",
    "        raise ValueError(\"This is not a numeric value\")\n"
   ]
  },
  {
   "cell_type": "code",
   "execution_count": 75,
   "metadata": {},
   "outputs": [
    {
     "data": {
      "text/plain": [
       "0"
      ]
     },
     "execution_count": 75,
     "metadata": {},
     "output_type": "execute_result"
    }
   ],
   "source": [
    "check_difference(4.9)"
   ]
  },
  {
   "cell_type": "code",
   "execution_count": 76,
   "metadata": {},
   "outputs": [
    {
     "data": {
      "text/plain": [
       "1"
      ]
     },
     "execution_count": 76,
     "metadata": {},
     "output_type": "execute_result"
    }
   ],
   "source": [
    "check_difference(5)"
   ]
  }
 ],
 "metadata": {
  "kernelspec": {
   "display_name": "Python 3",
   "language": "python",
   "name": "python3"
  },
  "language_info": {
   "codemirror_mode": {
    "name": "ipython",
    "version": 3
   },
   "file_extension": ".py",
   "mimetype": "text/x-python",
   "name": "python",
   "nbconvert_exporter": "python",
   "pygments_lexer": "ipython3",
   "version": "3.9.13"
  }
 },
 "nbformat": 4,
 "nbformat_minor": 2
}
