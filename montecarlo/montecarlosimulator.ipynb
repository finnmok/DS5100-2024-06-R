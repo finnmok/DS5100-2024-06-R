{
 "cells": [
  {
   "cell_type": "code",
   "execution_count": 23,
   "id": "6601bc3d-b095-4fae-842f-a9769007f72d",
   "metadata": {
    "tags": []
   },
   "outputs": [],
   "source": [
    "import numpy as np\n",
    "import pandas as pd\n",
    "import montecarlo as mc\n",
    "from collections import Counter\n",
    "from itertools import combinations, permutations"
   ]
  },
  {
   "cell_type": "code",
   "execution_count": 4,
   "id": "199ea2e9-2323-47c6-ac61-83ce13c13736",
   "metadata": {
    "tags": []
   },
   "outputs": [],
   "source": [
    "die = mc.Die(np.array(['1','2','3','4','5','6']))\n",
    "die2 = mc.Die(np.array(['1','2','3','4','5','6']))\n",
    "die3 = mc.Die(np.array(['1','2','3','4','5','6']))"
   ]
  },
  {
   "cell_type": "code",
   "execution_count": 5,
   "id": "2c9724bd-450e-42cc-a293-372d184d7b06",
   "metadata": {
    "tags": []
   },
   "outputs": [],
   "source": [
    "die.set_wts('6',3)\n",
    "die2.set_wts('6',3)\n",
    "die3.set_wts('6',3)"
   ]
  },
  {
   "cell_type": "code",
   "execution_count": 6,
   "id": "fcda904b-b7b9-4a6c-ab40-56155d35c0b3",
   "metadata": {
    "tags": []
   },
   "outputs": [],
   "source": [
    "game = mc.Game([die,die2,die3])"
   ]
  },
  {
   "cell_type": "code",
   "execution_count": 7,
   "id": "9df1983d-2c82-440c-a634-246e12739958",
   "metadata": {
    "tags": []
   },
   "outputs": [],
   "source": [
    "game.play(3)"
   ]
  },
  {
   "cell_type": "code",
   "execution_count": 8,
   "id": "ceafa897-fa39-4f7f-a345-c39a231dc191",
   "metadata": {
    "tags": []
   },
   "outputs": [
    {
     "data": {
      "text/html": [
       "<div>\n",
       "<style scoped>\n",
       "    .dataframe tbody tr th:only-of-type {\n",
       "        vertical-align: middle;\n",
       "    }\n",
       "\n",
       "    .dataframe tbody tr th {\n",
       "        vertical-align: top;\n",
       "    }\n",
       "\n",
       "    .dataframe thead th {\n",
       "        text-align: right;\n",
       "    }\n",
       "</style>\n",
       "<table border=\"1\" class=\"dataframe\">\n",
       "  <thead>\n",
       "    <tr style=\"text-align: right;\">\n",
       "      <th>die_number</th>\n",
       "      <th>0</th>\n",
       "      <th>1</th>\n",
       "      <th>2</th>\n",
       "    </tr>\n",
       "    <tr>\n",
       "      <th>roll_number</th>\n",
       "      <th></th>\n",
       "      <th></th>\n",
       "      <th></th>\n",
       "    </tr>\n",
       "  </thead>\n",
       "  <tbody>\n",
       "    <tr>\n",
       "      <th>0</th>\n",
       "      <td>4</td>\n",
       "      <td>6</td>\n",
       "      <td>4</td>\n",
       "    </tr>\n",
       "    <tr>\n",
       "      <th>1</th>\n",
       "      <td>6</td>\n",
       "      <td>4</td>\n",
       "      <td>1</td>\n",
       "    </tr>\n",
       "    <tr>\n",
       "      <th>2</th>\n",
       "      <td>1</td>\n",
       "      <td>1</td>\n",
       "      <td>2</td>\n",
       "    </tr>\n",
       "  </tbody>\n",
       "</table>\n",
       "</div>"
      ],
      "text/plain": [
       "die_number   0  1  2\n",
       "roll_number         \n",
       "0            4  6  4\n",
       "1            6  4  1\n",
       "2            1  1  2"
      ]
     },
     "execution_count": 8,
     "metadata": {},
     "output_type": "execute_result"
    }
   ],
   "source": [
    "a = game.get_most_recent_play()\n",
    "a"
   ]
  },
  {
   "cell_type": "code",
   "execution_count": 10,
   "id": "348df47f-5f13-498b-8b71-09d9b5413e5a",
   "metadata": {
    "tags": []
   },
   "outputs": [],
   "source": [
    "an = mc.Analyzer(game)"
   ]
  },
  {
   "cell_type": "code",
   "execution_count": 11,
   "id": "ade3bf45-dd97-48d1-8936-b9d1a93e7f43",
   "metadata": {
    "tags": []
   },
   "outputs": [
    {
     "data": {
      "text/plain": [
       "0"
      ]
     },
     "execution_count": 11,
     "metadata": {},
     "output_type": "execute_result"
    }
   ],
   "source": [
    "an.jackpot_count()"
   ]
  },
  {
   "cell_type": "code",
   "execution_count": 12,
   "id": "a220e370-dcdb-427d-90e8-14d4badb4e27",
   "metadata": {
    "tags": []
   },
   "outputs": [
    {
     "data": {
      "text/plain": [
       "array(['1', '2', '3', '4', '5', '6'], dtype='<U1')"
      ]
     },
     "execution_count": 12,
     "metadata": {},
     "output_type": "execute_result"
    }
   ],
   "source": [
    "game.dice[0].faces"
   ]
  },
  {
   "cell_type": "code",
   "execution_count": 14,
   "id": "95614d20-8281-44ca-9b5c-7529af7768d8",
   "metadata": {
    "tags": []
   },
   "outputs": [
    {
     "data": {
      "text/html": [
       "<div>\n",
       "<style scoped>\n",
       "    .dataframe tbody tr th:only-of-type {\n",
       "        vertical-align: middle;\n",
       "    }\n",
       "\n",
       "    .dataframe tbody tr th {\n",
       "        vertical-align: top;\n",
       "    }\n",
       "\n",
       "    .dataframe thead th {\n",
       "        text-align: right;\n",
       "    }\n",
       "</style>\n",
       "<table border=\"1\" class=\"dataframe\">\n",
       "  <thead>\n",
       "    <tr style=\"text-align: right;\">\n",
       "      <th></th>\n",
       "      <th>1</th>\n",
       "      <th>2</th>\n",
       "      <th>3</th>\n",
       "      <th>4</th>\n",
       "      <th>5</th>\n",
       "      <th>6</th>\n",
       "    </tr>\n",
       "    <tr>\n",
       "      <th>roll_number</th>\n",
       "      <th></th>\n",
       "      <th></th>\n",
       "      <th></th>\n",
       "      <th></th>\n",
       "      <th></th>\n",
       "      <th></th>\n",
       "    </tr>\n",
       "  </thead>\n",
       "  <tbody>\n",
       "    <tr>\n",
       "      <th>0</th>\n",
       "      <td>0</td>\n",
       "      <td>0</td>\n",
       "      <td>0</td>\n",
       "      <td>2</td>\n",
       "      <td>0</td>\n",
       "      <td>1</td>\n",
       "    </tr>\n",
       "    <tr>\n",
       "      <th>1</th>\n",
       "      <td>1</td>\n",
       "      <td>0</td>\n",
       "      <td>0</td>\n",
       "      <td>1</td>\n",
       "      <td>0</td>\n",
       "      <td>1</td>\n",
       "    </tr>\n",
       "    <tr>\n",
       "      <th>2</th>\n",
       "      <td>2</td>\n",
       "      <td>1</td>\n",
       "      <td>0</td>\n",
       "      <td>0</td>\n",
       "      <td>0</td>\n",
       "      <td>0</td>\n",
       "    </tr>\n",
       "  </tbody>\n",
       "</table>\n",
       "</div>"
      ],
      "text/plain": [
       "             1  2  3  4  5  6\n",
       "roll_number                  \n",
       "0            0  0  0  2  0  1\n",
       "1            1  0  0  1  0  1\n",
       "2            2  1  0  0  0  0"
      ]
     },
     "execution_count": 14,
     "metadata": {},
     "output_type": "execute_result"
    }
   ],
   "source": [
    "an.face_count()"
   ]
  },
  {
   "cell_type": "code",
   "execution_count": 51,
   "id": "f4922862-1537-4d15-8b72-2f0c91f63225",
   "metadata": {
    "tags": []
   },
   "outputs": [
    {
     "data": {
      "text/html": [
       "<div>\n",
       "<style scoped>\n",
       "    .dataframe tbody tr th:only-of-type {\n",
       "        vertical-align: middle;\n",
       "    }\n",
       "\n",
       "    .dataframe tbody tr th {\n",
       "        vertical-align: top;\n",
       "    }\n",
       "\n",
       "    .dataframe thead th {\n",
       "        text-align: right;\n",
       "    }\n",
       "</style>\n",
       "<table border=\"1\" class=\"dataframe\">\n",
       "  <thead>\n",
       "    <tr style=\"text-align: right;\">\n",
       "      <th>die_number</th>\n",
       "      <th>0</th>\n",
       "      <th>1</th>\n",
       "      <th>2</th>\n",
       "    </tr>\n",
       "    <tr>\n",
       "      <th>roll_number</th>\n",
       "      <th></th>\n",
       "      <th></th>\n",
       "      <th></th>\n",
       "    </tr>\n",
       "  </thead>\n",
       "  <tbody>\n",
       "    <tr>\n",
       "      <th>0</th>\n",
       "      <td>4</td>\n",
       "      <td>6</td>\n",
       "      <td>4</td>\n",
       "    </tr>\n",
       "    <tr>\n",
       "      <th>1</th>\n",
       "      <td>6</td>\n",
       "      <td>4</td>\n",
       "      <td>1</td>\n",
       "    </tr>\n",
       "    <tr>\n",
       "      <th>2</th>\n",
       "      <td>1</td>\n",
       "      <td>1</td>\n",
       "      <td>2</td>\n",
       "    </tr>\n",
       "  </tbody>\n",
       "</table>\n",
       "</div>"
      ],
      "text/plain": [
       "die_number   0  1  2\n",
       "roll_number         \n",
       "0            4  6  4\n",
       "1            6  4  1\n",
       "2            1  1  2"
      ]
     },
     "execution_count": 51,
     "metadata": {},
     "output_type": "execute_result"
    }
   ],
   "source": [
    "game.get_most_recent_play()"
   ]
  },
  {
   "cell_type": "code",
   "execution_count": 47,
   "id": "45dc2520-66ba-454b-868b-41057b38ca93",
   "metadata": {
    "tags": []
   },
   "outputs": [],
   "source": [
    "cts = dict(sum([Counter(combinations(r,2)) for r in game.get_most_recent_play().values],Counter()))"
   ]
  },
  {
   "cell_type": "code",
   "execution_count": 57,
   "id": "30355878-b427-4af4-bfb4-9ac0972d6719",
   "metadata": {
    "tags": []
   },
   "outputs": [
    {
     "data": {
      "text/plain": [
       "[Counter({('4', '6'): 2, ('4', '4'): 2, ('6', '4'): 2}),\n",
       " Counter({('6', '4'): 1,\n",
       "          ('6', '1'): 1,\n",
       "          ('4', '6'): 1,\n",
       "          ('4', '1'): 1,\n",
       "          ('1', '6'): 1,\n",
       "          ('1', '4'): 1}),\n",
       " Counter({('1', '1'): 2, ('1', '2'): 2, ('2', '1'): 2})]"
      ]
     },
     "execution_count": 57,
     "metadata": {},
     "output_type": "execute_result"
    }
   ],
   "source": [
    "[Counter(permutations(r,2)) for r in game.get_most_recent_play().values]"
   ]
  },
  {
   "cell_type": "code",
   "execution_count": 54,
   "id": "3b79a299-ce79-4af3-a84e-f284d6e71955",
   "metadata": {
    "tags": []
   },
   "outputs": [
    {
     "data": {
      "text/plain": [
       "[Counter({('4', '6'): 1, ('4', '4'): 1, ('6', '4'): 1}),\n",
       " Counter({('6', '4'): 1, ('6', '1'): 1, ('4', '1'): 1}),\n",
       " Counter({('1', '1'): 1, ('1', '2'): 2})]"
      ]
     },
     "execution_count": 54,
     "metadata": {},
     "output_type": "execute_result"
    }
   ],
   "source": [
    "[Counter(combinations(r,2)) for r in game.get_most_recent_play().values]"
   ]
  },
  {
   "cell_type": "code",
   "execution_count": 53,
   "id": "0074dfba-819e-4f56-8e51-e4baee8b103e",
   "metadata": {
    "tags": []
   },
   "outputs": [
    {
     "data": {
      "text/plain": [
       "{('4', '6'): 1,\n",
       " ('4', '4'): 1,\n",
       " ('6', '4'): 2,\n",
       " ('6', '1'): 1,\n",
       " ('4', '1'): 1,\n",
       " ('1', '1'): 1,\n",
       " ('1', '2'): 2}"
      ]
     },
     "execution_count": 53,
     "metadata": {},
     "output_type": "execute_result"
    }
   ],
   "source": [
    "cts"
   ]
  },
  {
   "cell_type": "code",
   "execution_count": 52,
   "id": "399a101b-ba36-4ae5-a4b9-9af012e7535b",
   "metadata": {
    "tags": []
   },
   "outputs": [
    {
     "data": {
      "text/html": [
       "<div>\n",
       "<style scoped>\n",
       "    .dataframe tbody tr th:only-of-type {\n",
       "        vertical-align: middle;\n",
       "    }\n",
       "\n",
       "    .dataframe tbody tr th {\n",
       "        vertical-align: top;\n",
       "    }\n",
       "\n",
       "    .dataframe thead th {\n",
       "        text-align: right;\n",
       "    }\n",
       "</style>\n",
       "<table border=\"1\" class=\"dataframe\">\n",
       "  <thead>\n",
       "    <tr style=\"text-align: right;\">\n",
       "      <th></th>\n",
       "      <th></th>\n",
       "      <th>n_combinations</th>\n",
       "    </tr>\n",
       "  </thead>\n",
       "  <tbody>\n",
       "    <tr>\n",
       "      <th rowspan=\"2\" valign=\"top\">1</th>\n",
       "      <th>1</th>\n",
       "      <td>1</td>\n",
       "    </tr>\n",
       "    <tr>\n",
       "      <th>2</th>\n",
       "      <td>2</td>\n",
       "    </tr>\n",
       "    <tr>\n",
       "      <th rowspan=\"3\" valign=\"top\">4</th>\n",
       "      <th>1</th>\n",
       "      <td>1</td>\n",
       "    </tr>\n",
       "    <tr>\n",
       "      <th>4</th>\n",
       "      <td>1</td>\n",
       "    </tr>\n",
       "    <tr>\n",
       "      <th>6</th>\n",
       "      <td>1</td>\n",
       "    </tr>\n",
       "    <tr>\n",
       "      <th rowspan=\"2\" valign=\"top\">6</th>\n",
       "      <th>1</th>\n",
       "      <td>1</td>\n",
       "    </tr>\n",
       "    <tr>\n",
       "      <th>4</th>\n",
       "      <td>2</td>\n",
       "    </tr>\n",
       "  </tbody>\n",
       "</table>\n",
       "</div>"
      ],
      "text/plain": [
       "     n_combinations\n",
       "1 1               1\n",
       "  2               2\n",
       "4 1               1\n",
       "  4               1\n",
       "  6               1\n",
       "6 1               1\n",
       "  4               2"
      ]
     },
     "execution_count": 52,
     "metadata": {},
     "output_type": "execute_result"
    }
   ],
   "source": [
    "pd.DataFrame(index=cts.keys(),data=cts.values()).sort_index().rename({0:\"n_combinations\"},axis=1)"
   ]
  }
 ],
 "metadata": {
  "kernelspec": {
   "display_name": "Python 3 (ipykernel)",
   "language": "python",
   "name": "python3"
  },
  "language_info": {
   "codemirror_mode": {
    "name": "ipython",
    "version": 3
   },
   "file_extension": ".py",
   "mimetype": "text/x-python",
   "name": "python",
   "nbconvert_exporter": "python",
   "pygments_lexer": "ipython3",
   "version": "3.11.4"
  }
 },
 "nbformat": 4,
 "nbformat_minor": 5
}
